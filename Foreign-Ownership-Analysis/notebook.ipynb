{
 "cells": [
  {
   "cell_type": "code",
   "execution_count": 75,
   "metadata": {},
   "outputs": [],
   "source": [
    "import pandas as pd\n",
    "import numpy as np"
   ]
  },
  {
   "cell_type": "markdown",
   "metadata": {},
   "source": [
    "## Load data from the \"EFG FO\" and \"Ticker info\" sheets"
   ]
  },
  {
   "cell_type": "code",
   "execution_count": 48,
   "metadata": {},
   "outputs": [],
   "source": [
    "file_name = 'raw_data/EFG FO Data.xlsx'\n",
    "\n",
    "# Load data from the \"EFG FO\" and \"Ticker info\" sheets.\n",
    "df_efo = pd.read_excel(file_name, sheet_name = 0)\n",
    "df_ticker_info = pd.read_excel(file_name, sheet_name = 1)"
   ]
  },
  {
   "cell_type": "code",
   "execution_count": 49,
   "metadata": {},
   "outputs": [
    {
     "data": {
      "text/html": [
       "<div>\n",
       "<style scoped>\n",
       "    .dataframe tbody tr th:only-of-type {\n",
       "        vertical-align: middle;\n",
       "    }\n",
       "\n",
       "    .dataframe tbody tr th {\n",
       "        vertical-align: top;\n",
       "    }\n",
       "\n",
       "    .dataframe thead th {\n",
       "        text-align: right;\n",
       "    }\n",
       "</style>\n",
       "<table border=\"1\" class=\"dataframe\">\n",
       "  <thead>\n",
       "    <tr style=\"text-align: right;\">\n",
       "      <th></th>\n",
       "      <th>Date</th>\n",
       "      <th>Ticker</th>\n",
       "      <th>FO WTD</th>\n",
       "      <th>FO MTD</th>\n",
       "      <th>FO YTD</th>\n",
       "      <th>Foreign Headroom</th>\n",
       "      <th>FO%</th>\n",
       "    </tr>\n",
       "  </thead>\n",
       "  <tbody>\n",
       "    <tr>\n",
       "      <th>0</th>\n",
       "      <td>2024-01-02</td>\n",
       "      <td>ADNOCGAS UH</td>\n",
       "      <td>8.425772e+00</td>\n",
       "      <td>8.425772e+00</td>\n",
       "      <td>8.425772e+00</td>\n",
       "      <td>97.7331</td>\n",
       "      <td>2.0037</td>\n",
       "    </tr>\n",
       "    <tr>\n",
       "      <th>1</th>\n",
       "      <td>2024-01-02</td>\n",
       "      <td>DSI UH</td>\n",
       "      <td>0.000000e+00</td>\n",
       "      <td>0.000000e+00</td>\n",
       "      <td>0.000000e+00</td>\n",
       "      <td>27.0500</td>\n",
       "      <td>8.3600</td>\n",
       "    </tr>\n",
       "    <tr>\n",
       "      <th>2</th>\n",
       "      <td>2024-01-02</td>\n",
       "      <td>UPP UH</td>\n",
       "      <td>4.764544e-11</td>\n",
       "      <td>4.764544e-11</td>\n",
       "      <td>4.764544e-11</td>\n",
       "      <td>29.6900</td>\n",
       "      <td>4.3600</td>\n",
       "    </tr>\n",
       "    <tr>\n",
       "      <th>3</th>\n",
       "      <td>2024-01-02</td>\n",
       "      <td>WAHA UH</td>\n",
       "      <td>-4.738458e-03</td>\n",
       "      <td>-4.738458e-03</td>\n",
       "      <td>-4.738458e-03</td>\n",
       "      <td>42.5893</td>\n",
       "      <td>4.5679</td>\n",
       "    </tr>\n",
       "    <tr>\n",
       "      <th>4</th>\n",
       "      <td>2024-01-02</td>\n",
       "      <td>RAKBANK UH</td>\n",
       "      <td>-3.313423e-02</td>\n",
       "      <td>-3.313423e-02</td>\n",
       "      <td>-3.313423e-02</td>\n",
       "      <td>25.5851</td>\n",
       "      <td>1.3659</td>\n",
       "    </tr>\n",
       "    <tr>\n",
       "      <th>...</th>\n",
       "      <td>...</td>\n",
       "      <td>...</td>\n",
       "      <td>...</td>\n",
       "      <td>...</td>\n",
       "      <td>...</td>\n",
       "      <td>...</td>\n",
       "      <td>...</td>\n",
       "    </tr>\n",
       "    <tr>\n",
       "      <th>33815</th>\n",
       "      <td>2024-10-07</td>\n",
       "      <td>SPM AB</td>\n",
       "      <td>-8.193077e-01</td>\n",
       "      <td>-1.468281e+00</td>\n",
       "      <td>-1.821806e+00</td>\n",
       "      <td>45.3200</td>\n",
       "      <td>3.6800</td>\n",
       "    </tr>\n",
       "    <tr>\n",
       "      <th>33816</th>\n",
       "      <td>2024-10-07</td>\n",
       "      <td>NADEC AB</td>\n",
       "      <td>-6.456229e-01</td>\n",
       "      <td>-1.088718e+00</td>\n",
       "      <td>-4.552456e+01</td>\n",
       "      <td>42.6400</td>\n",
       "      <td>6.3600</td>\n",
       "    </tr>\n",
       "    <tr>\n",
       "      <th>33817</th>\n",
       "      <td>2024-10-07</td>\n",
       "      <td>MEDGULF AB</td>\n",
       "      <td>-6.498437e-01</td>\n",
       "      <td>-1.047131e+00</td>\n",
       "      <td>1.635429e+01</td>\n",
       "      <td>41.9000</td>\n",
       "      <td>7.1000</td>\n",
       "    </tr>\n",
       "    <tr>\n",
       "      <th>33818</th>\n",
       "      <td>2024-10-07</td>\n",
       "      <td>GIG AB</td>\n",
       "      <td>8.208959e-02</td>\n",
       "      <td>-4.167620e-02</td>\n",
       "      <td>-1.246699e+01</td>\n",
       "      <td>45.7400</td>\n",
       "      <td>3.2600</td>\n",
       "    </tr>\n",
       "    <tr>\n",
       "      <th>33819</th>\n",
       "      <td>2024-10-07</td>\n",
       "      <td>KRE KK</td>\n",
       "      <td>-1.054162e+00</td>\n",
       "      <td>-8.443315e-01</td>\n",
       "      <td>7.483948e+00</td>\n",
       "      <td>90.3600</td>\n",
       "      <td>9.6400</td>\n",
       "    </tr>\n",
       "  </tbody>\n",
       "</table>\n",
       "<p>33820 rows × 7 columns</p>\n",
       "</div>"
      ],
      "text/plain": [
       "            Date       Ticker        FO WTD        FO MTD        FO YTD  \\\n",
       "0     2024-01-02  ADNOCGAS UH  8.425772e+00  8.425772e+00  8.425772e+00   \n",
       "1     2024-01-02       DSI UH  0.000000e+00  0.000000e+00  0.000000e+00   \n",
       "2     2024-01-02       UPP UH  4.764544e-11  4.764544e-11  4.764544e-11   \n",
       "3     2024-01-02      WAHA UH -4.738458e-03 -4.738458e-03 -4.738458e-03   \n",
       "4     2024-01-02   RAKBANK UH -3.313423e-02 -3.313423e-02 -3.313423e-02   \n",
       "...          ...          ...           ...           ...           ...   \n",
       "33815 2024-10-07       SPM AB -8.193077e-01 -1.468281e+00 -1.821806e+00   \n",
       "33816 2024-10-07     NADEC AB -6.456229e-01 -1.088718e+00 -4.552456e+01   \n",
       "33817 2024-10-07   MEDGULF AB -6.498437e-01 -1.047131e+00  1.635429e+01   \n",
       "33818 2024-10-07       GIG AB  8.208959e-02 -4.167620e-02 -1.246699e+01   \n",
       "33819 2024-10-07       KRE KK -1.054162e+00 -8.443315e-01  7.483948e+00   \n",
       "\n",
       "       Foreign Headroom     FO%  \n",
       "0               97.7331  2.0037  \n",
       "1               27.0500  8.3600  \n",
       "2               29.6900  4.3600  \n",
       "3               42.5893  4.5679  \n",
       "4               25.5851  1.3659  \n",
       "...                 ...     ...  \n",
       "33815           45.3200  3.6800  \n",
       "33816           42.6400  6.3600  \n",
       "33817           41.9000  7.1000  \n",
       "33818           45.7400  3.2600  \n",
       "33819           90.3600  9.6400  \n",
       "\n",
       "[33820 rows x 7 columns]"
      ]
     },
     "execution_count": 49,
     "metadata": {},
     "output_type": "execute_result"
    }
   ],
   "source": [
    "df_efo"
   ]
  },
  {
   "cell_type": "code",
   "execution_count": 50,
   "metadata": {},
   "outputs": [
    {
     "data": {
      "text/html": [
       "<div>\n",
       "<style scoped>\n",
       "    .dataframe tbody tr th:only-of-type {\n",
       "        vertical-align: middle;\n",
       "    }\n",
       "\n",
       "    .dataframe tbody tr th {\n",
       "        vertical-align: top;\n",
       "    }\n",
       "\n",
       "    .dataframe thead th {\n",
       "        text-align: right;\n",
       "    }\n",
       "</style>\n",
       "<table border=\"1\" class=\"dataframe\">\n",
       "  <thead>\n",
       "    <tr style=\"text-align: right;\">\n",
       "      <th></th>\n",
       "      <th>Ticker</th>\n",
       "      <th>Country</th>\n",
       "      <th>Sector</th>\n",
       "      <th>EXCHANGE</th>\n",
       "    </tr>\n",
       "  </thead>\n",
       "  <tbody>\n",
       "    <tr>\n",
       "      <th>0</th>\n",
       "      <td>ALPHADHA UH</td>\n",
       "      <td>UAE</td>\n",
       "      <td>Industrials</td>\n",
       "      <td>Abu Dhabi</td>\n",
       "    </tr>\n",
       "    <tr>\n",
       "      <th>1</th>\n",
       "      <td>ALMARAI AB</td>\n",
       "      <td>SAUDI ARABIA</td>\n",
       "      <td>Consumer Staples</td>\n",
       "      <td>Saudi Arabia</td>\n",
       "    </tr>\n",
       "    <tr>\n",
       "      <th>2</th>\n",
       "      <td>ALINMA AB</td>\n",
       "      <td>SAUDI ARABIA</td>\n",
       "      <td>Banking</td>\n",
       "      <td>Saudi Arabia</td>\n",
       "    </tr>\n",
       "    <tr>\n",
       "      <th>3</th>\n",
       "      <td>MIS AB</td>\n",
       "      <td>SAUDI ARABIA</td>\n",
       "      <td>Information Technology</td>\n",
       "      <td>Saudi Arabia</td>\n",
       "    </tr>\n",
       "    <tr>\n",
       "      <th>4</th>\n",
       "      <td>ALBI AB</td>\n",
       "      <td>SAUDI ARABIA</td>\n",
       "      <td>Banking</td>\n",
       "      <td>Saudi Arabia</td>\n",
       "    </tr>\n",
       "    <tr>\n",
       "      <th>...</th>\n",
       "      <td>...</td>\n",
       "      <td>...</td>\n",
       "      <td>...</td>\n",
       "      <td>...</td>\n",
       "    </tr>\n",
       "    <tr>\n",
       "      <th>283</th>\n",
       "      <td>ADNOCGAS UH</td>\n",
       "      <td>UAE</td>\n",
       "      <td>Energy</td>\n",
       "      <td>Abu Dhabi</td>\n",
       "    </tr>\n",
       "    <tr>\n",
       "      <th>284</th>\n",
       "      <td>PUREHEAL UH</td>\n",
       "      <td>UAE</td>\n",
       "      <td>Health Care</td>\n",
       "      <td>Abu Dhabi</td>\n",
       "    </tr>\n",
       "    <tr>\n",
       "      <th>285</th>\n",
       "      <td>PARKIN UH</td>\n",
       "      <td>UAE</td>\n",
       "      <td>Industrials</td>\n",
       "      <td>DFM</td>\n",
       "    </tr>\n",
       "    <tr>\n",
       "      <th>286</th>\n",
       "      <td>ADNOCLS UH</td>\n",
       "      <td>UAE</td>\n",
       "      <td>Energy</td>\n",
       "      <td>Abu Dhabi</td>\n",
       "    </tr>\n",
       "    <tr>\n",
       "      <th>287</th>\n",
       "      <td>ADES AB</td>\n",
       "      <td>SAUDI ARABIA</td>\n",
       "      <td>Energy</td>\n",
       "      <td>Saudi Arabia</td>\n",
       "    </tr>\n",
       "  </tbody>\n",
       "</table>\n",
       "<p>288 rows × 4 columns</p>\n",
       "</div>"
      ],
      "text/plain": [
       "          Ticker       Country                  Sector      EXCHANGE\n",
       "0    ALPHADHA UH           UAE             Industrials     Abu Dhabi\n",
       "1     ALMARAI AB  SAUDI ARABIA        Consumer Staples  Saudi Arabia\n",
       "2      ALINMA AB  SAUDI ARABIA                 Banking  Saudi Arabia\n",
       "3         MIS AB  SAUDI ARABIA  Information Technology  Saudi Arabia\n",
       "4        ALBI AB  SAUDI ARABIA                 Banking  Saudi Arabia\n",
       "..           ...           ...                     ...           ...\n",
       "283  ADNOCGAS UH           UAE                  Energy     Abu Dhabi\n",
       "284  PUREHEAL UH           UAE             Health Care     Abu Dhabi\n",
       "285    PARKIN UH           UAE             Industrials           DFM\n",
       "286   ADNOCLS UH           UAE                  Energy     Abu Dhabi\n",
       "287      ADES AB  SAUDI ARABIA                  Energy  Saudi Arabia\n",
       "\n",
       "[288 rows x 4 columns]"
      ]
     },
     "execution_count": 50,
     "metadata": {},
     "output_type": "execute_result"
    }
   ],
   "source": [
    "df_ticker_info"
   ]
  },
  {
   "cell_type": "markdown",
   "metadata": {},
   "source": [
    "## Inspect dfs"
   ]
  },
  {
   "cell_type": "code",
   "execution_count": 51,
   "metadata": {},
   "outputs": [
    {
     "data": {
      "text/html": [
       "<div>\n",
       "<style scoped>\n",
       "    .dataframe tbody tr th:only-of-type {\n",
       "        vertical-align: middle;\n",
       "    }\n",
       "\n",
       "    .dataframe tbody tr th {\n",
       "        vertical-align: top;\n",
       "    }\n",
       "\n",
       "    .dataframe thead th {\n",
       "        text-align: right;\n",
       "    }\n",
       "</style>\n",
       "<table border=\"1\" class=\"dataframe\">\n",
       "  <thead>\n",
       "    <tr style=\"text-align: right;\">\n",
       "      <th></th>\n",
       "      <th>Date</th>\n",
       "      <th>Ticker</th>\n",
       "      <th>FO WTD</th>\n",
       "      <th>FO MTD</th>\n",
       "      <th>FO YTD</th>\n",
       "      <th>Foreign Headroom</th>\n",
       "      <th>FO%</th>\n",
       "    </tr>\n",
       "  </thead>\n",
       "  <tbody>\n",
       "    <tr>\n",
       "      <th>16163</th>\n",
       "      <td>2024-05-01</td>\n",
       "      <td>BEMA QD</td>\n",
       "      <td>0.000000</td>\n",
       "      <td>0.000000</td>\n",
       "      <td>0.000000</td>\n",
       "      <td>48.8696</td>\n",
       "      <td>0.00</td>\n",
       "    </tr>\n",
       "    <tr>\n",
       "      <th>19022</th>\n",
       "      <td>2024-05-21</td>\n",
       "      <td>SOLUTION AB</td>\n",
       "      <td>-4.672785</td>\n",
       "      <td>-21.560875</td>\n",
       "      <td>-102.561436</td>\n",
       "      <td>42.8800</td>\n",
       "      <td>6.12</td>\n",
       "    </tr>\n",
       "    <tr>\n",
       "      <th>13683</th>\n",
       "      <td>2024-04-16</td>\n",
       "      <td>ARCCI AB</td>\n",
       "      <td>0.851782</td>\n",
       "      <td>-6.844860</td>\n",
       "      <td>74.996243</td>\n",
       "      <td>43.9200</td>\n",
       "      <td>5.08</td>\n",
       "    </tr>\n",
       "    <tr>\n",
       "      <th>12924</th>\n",
       "      <td>2024-03-20</td>\n",
       "      <td>HERFY AB</td>\n",
       "      <td>-0.123518</td>\n",
       "      <td>1.728145</td>\n",
       "      <td>3.775281</td>\n",
       "      <td>44.3400</td>\n",
       "      <td>4.66</td>\n",
       "    </tr>\n",
       "    <tr>\n",
       "      <th>29991</th>\n",
       "      <td>2024-09-11</td>\n",
       "      <td>EMPOWER UH</td>\n",
       "      <td>0.000000</td>\n",
       "      <td>0.917379</td>\n",
       "      <td>10.687927</td>\n",
       "      <td>90.2300</td>\n",
       "      <td>9.64</td>\n",
       "    </tr>\n",
       "  </tbody>\n",
       "</table>\n",
       "</div>"
      ],
      "text/plain": [
       "            Date       Ticker    FO WTD     FO MTD      FO YTD  \\\n",
       "16163 2024-05-01      BEMA QD  0.000000   0.000000    0.000000   \n",
       "19022 2024-05-21  SOLUTION AB -4.672785 -21.560875 -102.561436   \n",
       "13683 2024-04-16     ARCCI AB  0.851782  -6.844860   74.996243   \n",
       "12924 2024-03-20     HERFY AB -0.123518   1.728145    3.775281   \n",
       "29991 2024-09-11   EMPOWER UH  0.000000   0.917379   10.687927   \n",
       "\n",
       "       Foreign Headroom   FO%  \n",
       "16163           48.8696  0.00  \n",
       "19022           42.8800  6.12  \n",
       "13683           43.9200  5.08  \n",
       "12924           44.3400  4.66  \n",
       "29991           90.2300  9.64  "
      ]
     },
     "execution_count": 51,
     "metadata": {},
     "output_type": "execute_result"
    }
   ],
   "source": [
    "# Taking 5 samples\n",
    "df_efo.sample(5)"
   ]
  },
  {
   "cell_type": "markdown",
   "metadata": {},
   "source": [
    "281 unique values of `Ticker` column in df_efo"
   ]
  },
  {
   "cell_type": "code",
   "execution_count": null,
   "metadata": {},
   "outputs": [
    {
     "data": {
      "text/plain": [
       "281"
      ]
     },
     "execution_count": 52,
     "metadata": {},
     "output_type": "execute_result"
    }
   ],
   "source": [
    "df_efo['Ticker'].nunique()"
   ]
  },
  {
   "cell_type": "code",
   "execution_count": 53,
   "metadata": {},
   "outputs": [
    {
     "data": {
      "text/plain": [
       "Ticker\n",
       "ADNOCGAS UH    124\n",
       "ALRAJHI AB     124\n",
       "DERAYAHR AB    124\n",
       "TADAWULG AB    124\n",
       "WALAA AB       124\n",
       "              ... \n",
       "ALMUTAHE KK     38\n",
       "SMASCO AB       32\n",
       "AZNOULA KK      24\n",
       "MODON UH        16\n",
       "NMDCENR UH      11\n",
       "Name: count, Length: 281, dtype: int64"
      ]
     },
     "execution_count": 53,
     "metadata": {},
     "output_type": "execute_result"
    }
   ],
   "source": [
    "df_efo['Ticker'].value_counts()"
   ]
  },
  {
   "cell_type": "code",
   "execution_count": 54,
   "metadata": {},
   "outputs": [
    {
     "data": {
      "text/plain": [
       "Date\n",
       "2024-09-29    277\n",
       "2024-09-26    277\n",
       "2024-09-25    277\n",
       "2024-09-24    277\n",
       "2024-09-23    277\n",
       "             ... \n",
       "2024-03-11    269\n",
       "2024-03-10    269\n",
       "2024-03-07    269\n",
       "2024-03-06    269\n",
       "2024-03-19    269\n",
       "Name: count, Length: 124, dtype: int64"
      ]
     },
     "execution_count": 54,
     "metadata": {},
     "output_type": "execute_result"
    }
   ],
   "source": [
    "df_efo['Date'].value_counts()"
   ]
  },
  {
   "cell_type": "markdown",
   "metadata": {},
   "source": [
    "281 unique values of `Ticker` column in df_ticker_info"
   ]
  },
  {
   "cell_type": "code",
   "execution_count": 55,
   "metadata": {},
   "outputs": [
    {
     "data": {
      "text/plain": [
       "288"
      ]
     },
     "execution_count": 55,
     "metadata": {},
     "output_type": "execute_result"
    }
   ],
   "source": [
    "df_ticker_info['Ticker'].nunique()"
   ]
  },
  {
   "cell_type": "code",
   "execution_count": 56,
   "metadata": {},
   "outputs": [
    {
     "data": {
      "text/html": [
       "<div>\n",
       "<style scoped>\n",
       "    .dataframe tbody tr th:only-of-type {\n",
       "        vertical-align: middle;\n",
       "    }\n",
       "\n",
       "    .dataframe tbody tr th {\n",
       "        vertical-align: top;\n",
       "    }\n",
       "\n",
       "    .dataframe thead th {\n",
       "        text-align: right;\n",
       "    }\n",
       "</style>\n",
       "<table border=\"1\" class=\"dataframe\">\n",
       "  <thead>\n",
       "    <tr style=\"text-align: right;\">\n",
       "      <th></th>\n",
       "      <th>Ticker</th>\n",
       "      <th>Country</th>\n",
       "      <th>Sector</th>\n",
       "      <th>EXCHANGE</th>\n",
       "    </tr>\n",
       "  </thead>\n",
       "  <tbody>\n",
       "    <tr>\n",
       "      <th>127</th>\n",
       "      <td>SAFCO AB</td>\n",
       "      <td>SAUDI ARABIA</td>\n",
       "      <td>Materials</td>\n",
       "      <td>Saudi Arabia</td>\n",
       "    </tr>\n",
       "    <tr>\n",
       "      <th>25</th>\n",
       "      <td>ARMX UH</td>\n",
       "      <td>UAE</td>\n",
       "      <td>Industrials</td>\n",
       "      <td>DFM</td>\n",
       "    </tr>\n",
       "    <tr>\n",
       "      <th>276</th>\n",
       "      <td>EMAARMLS UH</td>\n",
       "      <td>UAE</td>\n",
       "      <td>Real Estate</td>\n",
       "      <td>DFM</td>\n",
       "    </tr>\n",
       "    <tr>\n",
       "      <th>110</th>\n",
       "      <td>RAKBANK UH</td>\n",
       "      <td>UAE</td>\n",
       "      <td>Banking</td>\n",
       "      <td>Abu Dhabi</td>\n",
       "    </tr>\n",
       "    <tr>\n",
       "      <th>31</th>\n",
       "      <td>SECO AB</td>\n",
       "      <td>SAUDI ARABIA</td>\n",
       "      <td>Utilities</td>\n",
       "      <td>Saudi Arabia</td>\n",
       "    </tr>\n",
       "  </tbody>\n",
       "</table>\n",
       "</div>"
      ],
      "text/plain": [
       "          Ticker       Country       Sector      EXCHANGE\n",
       "127     SAFCO AB  SAUDI ARABIA    Materials  Saudi Arabia\n",
       "25       ARMX UH           UAE  Industrials           DFM\n",
       "276  EMAARMLS UH           UAE  Real Estate           DFM\n",
       "110   RAKBANK UH           UAE      Banking     Abu Dhabi\n",
       "31       SECO AB  SAUDI ARABIA    Utilities  Saudi Arabia"
      ]
     },
     "execution_count": 56,
     "metadata": {},
     "output_type": "execute_result"
    }
   ],
   "source": [
    "# Taking 5 samples\n",
    "df_ticker_info.sample(5)"
   ]
  },
  {
   "cell_type": "code",
   "execution_count": 57,
   "metadata": {},
   "outputs": [
    {
     "data": {
      "text/plain": [
       "Country\n",
       "SAUDI ARABIA    155\n",
       "UAE              64\n",
       "QATAR            39\n",
       "KUWAIT           30\n",
       "Name: count, dtype: int64"
      ]
     },
     "execution_count": 57,
     "metadata": {},
     "output_type": "execute_result"
    }
   ],
   "source": [
    "df_ticker_info['Country'].value_counts()"
   ]
  },
  {
   "cell_type": "code",
   "execution_count": 58,
   "metadata": {},
   "outputs": [
    {
     "data": {
      "text/plain": [
       "Sector\n",
       "Industrials                        45\n",
       "Materials                          42\n",
       "Banking                            41\n",
       "Real Estate                        30\n",
       "Consumer Discretionary             26\n",
       "Consumer Staples                   22\n",
       "Financial Services                 15\n",
       "Insurance                          13\n",
       "Energy                             13\n",
       "Communication Services             12\n",
       "Health Care                        12\n",
       "Utilities                          11\n",
       "Information Technology              5\n",
       "Consumer Discretionary Services     1\n",
       "Name: count, dtype: int64"
      ]
     },
     "execution_count": 58,
     "metadata": {},
     "output_type": "execute_result"
    }
   ],
   "source": [
    "df_ticker_info['Sector'].value_counts()"
   ]
  },
  {
   "cell_type": "code",
   "execution_count": 59,
   "metadata": {},
   "outputs": [
    {
     "data": {
      "text/plain": [
       "EXCHANGE\n",
       "Saudi Arabia    155\n",
       "Qatar            39\n",
       "Abu Dhabi        36\n",
       "Kuwait           30\n",
       "DFM              28\n",
       "Name: count, dtype: int64"
      ]
     },
     "execution_count": 59,
     "metadata": {},
     "output_type": "execute_result"
    }
   ],
   "source": [
    "df_ticker_info['EXCHANGE'].value_counts()"
   ]
  },
  {
   "cell_type": "code",
   "execution_count": 60,
   "metadata": {},
   "outputs": [
    {
     "name": "stdout",
     "output_type": "stream",
     "text": [
      "<class 'pandas.core.frame.DataFrame'>\n",
      "RangeIndex: 33820 entries, 0 to 33819\n",
      "Data columns (total 7 columns):\n",
      " #   Column            Non-Null Count  Dtype         \n",
      "---  ------            --------------  -----         \n",
      " 0   Date              33820 non-null  datetime64[ns]\n",
      " 1   Ticker            33820 non-null  object        \n",
      " 2   FO WTD            33820 non-null  float64       \n",
      " 3   FO MTD            33792 non-null  float64       \n",
      " 4   FO YTD            33820 non-null  float64       \n",
      " 5   Foreign Headroom  33820 non-null  float64       \n",
      " 6   FO%               33820 non-null  float64       \n",
      "dtypes: datetime64[ns](1), float64(5), object(1)\n",
      "memory usage: 1.8+ MB\n"
     ]
    }
   ],
   "source": [
    "df_efo.info()"
   ]
  },
  {
   "cell_type": "markdown",
   "metadata": {},
   "source": [
    "#### `FO MTD` column has 28 null values"
   ]
  },
  {
   "cell_type": "code",
   "execution_count": 61,
   "metadata": {},
   "outputs": [
    {
     "data": {
      "text/html": [
       "<div>\n",
       "<style scoped>\n",
       "    .dataframe tbody tr th:only-of-type {\n",
       "        vertical-align: middle;\n",
       "    }\n",
       "\n",
       "    .dataframe tbody tr th {\n",
       "        vertical-align: top;\n",
       "    }\n",
       "\n",
       "    .dataframe thead th {\n",
       "        text-align: right;\n",
       "    }\n",
       "</style>\n",
       "<table border=\"1\" class=\"dataframe\">\n",
       "  <thead>\n",
       "    <tr style=\"text-align: right;\">\n",
       "      <th></th>\n",
       "      <th>Date</th>\n",
       "      <th>Ticker</th>\n",
       "      <th>FO WTD</th>\n",
       "      <th>FO MTD</th>\n",
       "      <th>FO YTD</th>\n",
       "      <th>Foreign Headroom</th>\n",
       "      <th>FO%</th>\n",
       "    </tr>\n",
       "  </thead>\n",
       "  <tbody>\n",
       "    <tr>\n",
       "      <th>319</th>\n",
       "      <td>2024-01-03</td>\n",
       "      <td>JAZEERA KK</td>\n",
       "      <td>0.000000</td>\n",
       "      <td>NaN</td>\n",
       "      <td>0.000000</td>\n",
       "      <td>83.50</td>\n",
       "      <td>16.50</td>\n",
       "    </tr>\n",
       "    <tr>\n",
       "      <th>321</th>\n",
       "      <td>2024-01-03</td>\n",
       "      <td>MABANEE KK</td>\n",
       "      <td>-0.356200</td>\n",
       "      <td>NaN</td>\n",
       "      <td>-0.356200</td>\n",
       "      <td>84.15</td>\n",
       "      <td>15.85</td>\n",
       "    </tr>\n",
       "    <tr>\n",
       "      <th>349</th>\n",
       "      <td>2024-01-03</td>\n",
       "      <td>INTEGRAT KK</td>\n",
       "      <td>0.041952</td>\n",
       "      <td>NaN</td>\n",
       "      <td>0.041952</td>\n",
       "      <td>84.81</td>\n",
       "      <td>15.19</td>\n",
       "    </tr>\n",
       "    <tr>\n",
       "      <th>356</th>\n",
       "      <td>2024-01-03</td>\n",
       "      <td>WARBABAN KK</td>\n",
       "      <td>0.000000</td>\n",
       "      <td>NaN</td>\n",
       "      <td>0.000000</td>\n",
       "      <td>94.49</td>\n",
       "      <td>5.51</td>\n",
       "    </tr>\n",
       "    <tr>\n",
       "      <th>357</th>\n",
       "      <td>2024-01-03</td>\n",
       "      <td>ALIMTIAZ KK</td>\n",
       "      <td>-0.019628</td>\n",
       "      <td>NaN</td>\n",
       "      <td>-0.019628</td>\n",
       "      <td>95.84</td>\n",
       "      <td>4.16</td>\n",
       "    </tr>\n",
       "  </tbody>\n",
       "</table>\n",
       "</div>"
      ],
      "text/plain": [
       "          Date       Ticker    FO WTD  FO MTD    FO YTD  Foreign Headroom  \\\n",
       "319 2024-01-03   JAZEERA KK  0.000000     NaN  0.000000             83.50   \n",
       "321 2024-01-03   MABANEE KK -0.356200     NaN -0.356200             84.15   \n",
       "349 2024-01-03  INTEGRAT KK  0.041952     NaN  0.041952             84.81   \n",
       "356 2024-01-03  WARBABAN KK  0.000000     NaN  0.000000             94.49   \n",
       "357 2024-01-03  ALIMTIAZ KK -0.019628     NaN -0.019628             95.84   \n",
       "\n",
       "       FO%  \n",
       "319  16.50  \n",
       "321  15.85  \n",
       "349  15.19  \n",
       "356   5.51  \n",
       "357   4.16  "
      ]
     },
     "execution_count": 61,
     "metadata": {},
     "output_type": "execute_result"
    }
   ],
   "source": [
    "df_efo[df_efo['FO MTD'].isna()].head(5)"
   ]
  },
  {
   "cell_type": "markdown",
   "metadata": {},
   "source": [
    "- We can replace the nan values with the mean of the remaining 33792 values\n",
    "- Or replace the nan values with the mean of only that day\n",
    "- But lets drop those rows for now, hence they are only 28 values which represents only 0.082%"
   ]
  },
  {
   "cell_type": "code",
   "execution_count": 62,
   "metadata": {},
   "outputs": [
    {
     "name": "stdout",
     "output_type": "stream",
     "text": [
      "<class 'pandas.core.frame.DataFrame'>\n",
      "Index: 33792 entries, 0 to 33819\n",
      "Data columns (total 7 columns):\n",
      " #   Column            Non-Null Count  Dtype         \n",
      "---  ------            --------------  -----         \n",
      " 0   Date              33792 non-null  datetime64[ns]\n",
      " 1   Ticker            33792 non-null  object        \n",
      " 2   FO WTD            33792 non-null  float64       \n",
      " 3   FO MTD            33792 non-null  float64       \n",
      " 4   FO YTD            33792 non-null  float64       \n",
      " 5   Foreign Headroom  33792 non-null  float64       \n",
      " 6   FO%               33792 non-null  float64       \n",
      "dtypes: datetime64[ns](1), float64(5), object(1)\n",
      "memory usage: 2.1+ MB\n"
     ]
    }
   ],
   "source": [
    "df_efo = df_efo[~df_efo['FO MTD'].isna()]\n",
    "df_efo.info()\n"
   ]
  },
  {
   "cell_type": "code",
   "execution_count": 63,
   "metadata": {},
   "outputs": [
    {
     "data": {
      "text/plain": [
       "281"
      ]
     },
     "execution_count": 63,
     "metadata": {},
     "output_type": "execute_result"
    }
   ],
   "source": [
    "df_efo['Ticker'].nunique()"
   ]
  },
  {
   "cell_type": "code",
   "execution_count": 64,
   "metadata": {},
   "outputs": [
    {
     "name": "stdout",
     "output_type": "stream",
     "text": [
      "<class 'pandas.core.frame.DataFrame'>\n",
      "RangeIndex: 288 entries, 0 to 287\n",
      "Data columns (total 4 columns):\n",
      " #   Column    Non-Null Count  Dtype \n",
      "---  ------    --------------  ----- \n",
      " 0   Ticker    288 non-null    object\n",
      " 1   Country   288 non-null    object\n",
      " 2   Sector    288 non-null    object\n",
      " 3   EXCHANGE  288 non-null    object\n",
      "dtypes: object(4)\n",
      "memory usage: 9.1+ KB\n"
     ]
    }
   ],
   "source": [
    "df_ticker_info.info()"
   ]
  },
  {
   "cell_type": "code",
   "execution_count": 65,
   "metadata": {},
   "outputs": [
    {
     "data": {
      "text/html": [
       "<div>\n",
       "<style scoped>\n",
       "    .dataframe tbody tr th:only-of-type {\n",
       "        vertical-align: middle;\n",
       "    }\n",
       "\n",
       "    .dataframe tbody tr th {\n",
       "        vertical-align: top;\n",
       "    }\n",
       "\n",
       "    .dataframe thead th {\n",
       "        text-align: right;\n",
       "    }\n",
       "</style>\n",
       "<table border=\"1\" class=\"dataframe\">\n",
       "  <thead>\n",
       "    <tr style=\"text-align: right;\">\n",
       "      <th></th>\n",
       "      <th>Date</th>\n",
       "      <th>FO WTD</th>\n",
       "      <th>FO MTD</th>\n",
       "      <th>FO YTD</th>\n",
       "      <th>Foreign Headroom</th>\n",
       "      <th>FO%</th>\n",
       "    </tr>\n",
       "  </thead>\n",
       "  <tbody>\n",
       "    <tr>\n",
       "      <th>count</th>\n",
       "      <td>33792</td>\n",
       "      <td>33792.000000</td>\n",
       "      <td>3.379200e+04</td>\n",
       "      <td>33792.000000</td>\n",
       "      <td>33792.000000</td>\n",
       "      <td>33792.000000</td>\n",
       "    </tr>\n",
       "    <tr>\n",
       "      <th>mean</th>\n",
       "      <td>2024-05-11 01:21:51.647727360</td>\n",
       "      <td>0.646435</td>\n",
       "      <td>2.445621e+00</td>\n",
       "      <td>16.981644</td>\n",
       "      <td>50.726312</td>\n",
       "      <td>9.267188</td>\n",
       "    </tr>\n",
       "    <tr>\n",
       "      <th>min</th>\n",
       "      <td>2024-01-02 00:00:00</td>\n",
       "      <td>-530.078761</td>\n",
       "      <td>-5.339566e+02</td>\n",
       "      <td>-461.128525</td>\n",
       "      <td>-3.410000</td>\n",
       "      <td>0.000000</td>\n",
       "    </tr>\n",
       "    <tr>\n",
       "      <th>25%</th>\n",
       "      <td>2024-02-26 00:00:00</td>\n",
       "      <td>-0.596962</td>\n",
       "      <td>-1.288028e+00</td>\n",
       "      <td>-4.281352</td>\n",
       "      <td>38.640000</td>\n",
       "      <td>4.090000</td>\n",
       "    </tr>\n",
       "    <tr>\n",
       "      <th>50%</th>\n",
       "      <td>2024-05-07 00:00:00</td>\n",
       "      <td>0.000000</td>\n",
       "      <td>1.013679e-15</td>\n",
       "      <td>0.692450</td>\n",
       "      <td>43.460000</td>\n",
       "      <td>6.950000</td>\n",
       "    </tr>\n",
       "    <tr>\n",
       "      <th>75%</th>\n",
       "      <td>2024-08-01 00:00:00</td>\n",
       "      <td>0.591374</td>\n",
       "      <td>1.610163e+00</td>\n",
       "      <td>9.836010</td>\n",
       "      <td>48.440000</td>\n",
       "      <td>11.610000</td>\n",
       "    </tr>\n",
       "    <tr>\n",
       "      <th>max</th>\n",
       "      <td>2024-10-07 00:00:00</td>\n",
       "      <td>4715.709022</td>\n",
       "      <td>4.751768e+03</td>\n",
       "      <td>4944.882900</td>\n",
       "      <td>99.940000</td>\n",
       "      <td>79.982200</td>\n",
       "    </tr>\n",
       "    <tr>\n",
       "      <th>std</th>\n",
       "      <td>NaN</td>\n",
       "      <td>44.577025</td>\n",
       "      <td>7.242057e+01</td>\n",
       "      <td>174.432982</td>\n",
       "      <td>21.661385</td>\n",
       "      <td>9.478095</td>\n",
       "    </tr>\n",
       "  </tbody>\n",
       "</table>\n",
       "</div>"
      ],
      "text/plain": [
       "                                Date        FO WTD        FO MTD  \\\n",
       "count                          33792  33792.000000  3.379200e+04   \n",
       "mean   2024-05-11 01:21:51.647727360      0.646435  2.445621e+00   \n",
       "min              2024-01-02 00:00:00   -530.078761 -5.339566e+02   \n",
       "25%              2024-02-26 00:00:00     -0.596962 -1.288028e+00   \n",
       "50%              2024-05-07 00:00:00      0.000000  1.013679e-15   \n",
       "75%              2024-08-01 00:00:00      0.591374  1.610163e+00   \n",
       "max              2024-10-07 00:00:00   4715.709022  4.751768e+03   \n",
       "std                              NaN     44.577025  7.242057e+01   \n",
       "\n",
       "             FO YTD  Foreign Headroom           FO%  \n",
       "count  33792.000000      33792.000000  33792.000000  \n",
       "mean      16.981644         50.726312      9.267188  \n",
       "min     -461.128525         -3.410000      0.000000  \n",
       "25%       -4.281352         38.640000      4.090000  \n",
       "50%        0.692450         43.460000      6.950000  \n",
       "75%        9.836010         48.440000     11.610000  \n",
       "max     4944.882900         99.940000     79.982200  \n",
       "std      174.432982         21.661385      9.478095  "
      ]
     },
     "execution_count": 65,
     "metadata": {},
     "output_type": "execute_result"
    }
   ],
   "source": [
    "df_efo.describe()"
   ]
  },
  {
   "cell_type": "code",
   "execution_count": 66,
   "metadata": {},
   "outputs": [
    {
     "data": {
      "text/html": [
       "<div>\n",
       "<style scoped>\n",
       "    .dataframe tbody tr th:only-of-type {\n",
       "        vertical-align: middle;\n",
       "    }\n",
       "\n",
       "    .dataframe tbody tr th {\n",
       "        vertical-align: top;\n",
       "    }\n",
       "\n",
       "    .dataframe thead th {\n",
       "        text-align: right;\n",
       "    }\n",
       "</style>\n",
       "<table border=\"1\" class=\"dataframe\">\n",
       "  <thead>\n",
       "    <tr style=\"text-align: right;\">\n",
       "      <th></th>\n",
       "      <th>Ticker</th>\n",
       "      <th>Country</th>\n",
       "      <th>Sector</th>\n",
       "      <th>EXCHANGE</th>\n",
       "    </tr>\n",
       "  </thead>\n",
       "  <tbody>\n",
       "    <tr>\n",
       "      <th>count</th>\n",
       "      <td>288</td>\n",
       "      <td>288</td>\n",
       "      <td>288</td>\n",
       "      <td>288</td>\n",
       "    </tr>\n",
       "    <tr>\n",
       "      <th>unique</th>\n",
       "      <td>288</td>\n",
       "      <td>4</td>\n",
       "      <td>14</td>\n",
       "      <td>5</td>\n",
       "    </tr>\n",
       "    <tr>\n",
       "      <th>top</th>\n",
       "      <td>ALPHADHA UH</td>\n",
       "      <td>SAUDI ARABIA</td>\n",
       "      <td>Industrials</td>\n",
       "      <td>Saudi Arabia</td>\n",
       "    </tr>\n",
       "    <tr>\n",
       "      <th>freq</th>\n",
       "      <td>1</td>\n",
       "      <td>155</td>\n",
       "      <td>45</td>\n",
       "      <td>155</td>\n",
       "    </tr>\n",
       "  </tbody>\n",
       "</table>\n",
       "</div>"
      ],
      "text/plain": [
       "             Ticker       Country       Sector      EXCHANGE\n",
       "count           288           288          288           288\n",
       "unique          288             4           14             5\n",
       "top     ALPHADHA UH  SAUDI ARABIA  Industrials  Saudi Arabia\n",
       "freq              1           155           45           155"
      ]
     },
     "execution_count": 66,
     "metadata": {},
     "output_type": "execute_result"
    }
   ],
   "source": [
    "df_ticker_info.describe()"
   ]
  },
  {
   "cell_type": "code",
   "execution_count": null,
   "metadata": {},
   "outputs": [],
   "source": []
  },
  {
   "cell_type": "markdown",
   "metadata": {},
   "source": [
    "#### 281 unique values of `Ticker` column in df_efo while 288 values exists in df_ticker_info\n",
    "This is the column on which the join will happen"
   ]
  },
  {
   "cell_type": "code",
   "execution_count": 69,
   "metadata": {},
   "outputs": [
    {
     "data": {
      "text/plain": [
       "(288, 281)"
      ]
     },
     "execution_count": 69,
     "metadata": {},
     "output_type": "execute_result"
    }
   ],
   "source": [
    "df_ticker_info['Ticker'].nunique(), df_efo['Ticker'].nunique()"
   ]
  },
  {
   "cell_type": "markdown",
   "metadata": {},
   "source": [
    "There are 16 tickers that exists in df_ticker_info and not in df_efo"
   ]
  },
  {
   "cell_type": "code",
   "execution_count": 97,
   "metadata": {},
   "outputs": [
    {
     "data": {
      "text/plain": [
       "(array(['ALHOKAIR AB', 'ALKHODAR AB', 'ALMRAKEZ AB', 'ALQURAIN KK',\n",
       "        'ARTC UH', 'AUB KK', 'AXA AB', 'DAMAC UH', 'DUR AB', 'DXBE UH',\n",
       "        'EMAARMLS UH', 'ETISALAT UH', 'NCB AB', 'PETROCH AB', 'SAMBA AB',\n",
       "        'SRE AB'], dtype=object),\n",
       " 16)"
      ]
     },
     "execution_count": 97,
     "metadata": {},
     "output_type": "execute_result"
    }
   ],
   "source": [
    "df_ticker_info_ticker_arr = df_ticker_info['Ticker'].unique()\n",
    "df_efo_ticker_arr = df_efo['Ticker'].unique()\n",
    "\n",
    "diff = np.setdiff1d(df_ticker_info_ticker_arr, df_efo_ticker_arr)\n",
    "diff, diff.size"
   ]
  },
  {
   "cell_type": "code",
   "execution_count": 98,
   "metadata": {},
   "outputs": [
    {
     "data": {
      "text/html": [
       "<div>\n",
       "<style scoped>\n",
       "    .dataframe tbody tr th:only-of-type {\n",
       "        vertical-align: middle;\n",
       "    }\n",
       "\n",
       "    .dataframe tbody tr th {\n",
       "        vertical-align: top;\n",
       "    }\n",
       "\n",
       "    .dataframe thead th {\n",
       "        text-align: right;\n",
       "    }\n",
       "</style>\n",
       "<table border=\"1\" class=\"dataframe\">\n",
       "  <thead>\n",
       "    <tr style=\"text-align: right;\">\n",
       "      <th></th>\n",
       "      <th>Ticker</th>\n",
       "      <th>Country</th>\n",
       "      <th>Sector</th>\n",
       "      <th>EXCHANGE</th>\n",
       "    </tr>\n",
       "  </thead>\n",
       "  <tbody>\n",
       "    <tr>\n",
       "      <th>77</th>\n",
       "      <td>ALQURAIN KK</td>\n",
       "      <td>KUWAIT</td>\n",
       "      <td>Consumer Staples</td>\n",
       "      <td>Kuwait</td>\n",
       "    </tr>\n",
       "    <tr>\n",
       "      <th>84</th>\n",
       "      <td>AUB KK</td>\n",
       "      <td>KUWAIT</td>\n",
       "      <td>Banking</td>\n",
       "      <td>Kuwait</td>\n",
       "    </tr>\n",
       "    <tr>\n",
       "      <th>116</th>\n",
       "      <td>ARTC UH</td>\n",
       "      <td>UAE</td>\n",
       "      <td>Industrials</td>\n",
       "      <td>Abu Dhabi</td>\n",
       "    </tr>\n",
       "    <tr>\n",
       "      <th>160</th>\n",
       "      <td>ETISALAT UH</td>\n",
       "      <td>UAE</td>\n",
       "      <td>Communication Services</td>\n",
       "      <td>Abu Dhabi</td>\n",
       "    </tr>\n",
       "    <tr>\n",
       "      <th>166</th>\n",
       "      <td>DAMAC UH</td>\n",
       "      <td>UAE</td>\n",
       "      <td>Real Estate</td>\n",
       "      <td>DFM</td>\n",
       "    </tr>\n",
       "    <tr>\n",
       "      <th>173</th>\n",
       "      <td>DUR AB</td>\n",
       "      <td>SAUDI ARABIA</td>\n",
       "      <td>Consumer Discretionary</td>\n",
       "      <td>Saudi Arabia</td>\n",
       "    </tr>\n",
       "    <tr>\n",
       "      <th>187</th>\n",
       "      <td>ALHOKAIR AB</td>\n",
       "      <td>SAUDI ARABIA</td>\n",
       "      <td>Consumer Discretionary</td>\n",
       "      <td>Saudi Arabia</td>\n",
       "    </tr>\n",
       "    <tr>\n",
       "      <th>188</th>\n",
       "      <td>PETROCH AB</td>\n",
       "      <td>SAUDI ARABIA</td>\n",
       "      <td>Materials</td>\n",
       "      <td>Saudi Arabia</td>\n",
       "    </tr>\n",
       "    <tr>\n",
       "      <th>194</th>\n",
       "      <td>AXA AB</td>\n",
       "      <td>SAUDI ARABIA</td>\n",
       "      <td>Insurance</td>\n",
       "      <td>Saudi Arabia</td>\n",
       "    </tr>\n",
       "    <tr>\n",
       "      <th>211</th>\n",
       "      <td>ALMRAKEZ AB</td>\n",
       "      <td>SAUDI ARABIA</td>\n",
       "      <td>Real Estate</td>\n",
       "      <td>Saudi Arabia</td>\n",
       "    </tr>\n",
       "    <tr>\n",
       "      <th>269</th>\n",
       "      <td>SRE AB</td>\n",
       "      <td>SAUDI ARABIA</td>\n",
       "      <td>Real Estate</td>\n",
       "      <td>Saudi Arabia</td>\n",
       "    </tr>\n",
       "    <tr>\n",
       "      <th>273</th>\n",
       "      <td>NCB AB</td>\n",
       "      <td>SAUDI ARABIA</td>\n",
       "      <td>Banking</td>\n",
       "      <td>Saudi Arabia</td>\n",
       "    </tr>\n",
       "    <tr>\n",
       "      <th>274</th>\n",
       "      <td>SAMBA AB</td>\n",
       "      <td>SAUDI ARABIA</td>\n",
       "      <td>Banking</td>\n",
       "      <td>Saudi Arabia</td>\n",
       "    </tr>\n",
       "    <tr>\n",
       "      <th>275</th>\n",
       "      <td>ALKHODAR AB</td>\n",
       "      <td>SAUDI ARABIA</td>\n",
       "      <td>Industrials</td>\n",
       "      <td>Saudi Arabia</td>\n",
       "    </tr>\n",
       "    <tr>\n",
       "      <th>276</th>\n",
       "      <td>EMAARMLS UH</td>\n",
       "      <td>UAE</td>\n",
       "      <td>Real Estate</td>\n",
       "      <td>DFM</td>\n",
       "    </tr>\n",
       "    <tr>\n",
       "      <th>277</th>\n",
       "      <td>DXBE UH</td>\n",
       "      <td>UAE</td>\n",
       "      <td>Consumer Discretionary</td>\n",
       "      <td>DFM</td>\n",
       "    </tr>\n",
       "  </tbody>\n",
       "</table>\n",
       "</div>"
      ],
      "text/plain": [
       "          Ticker       Country                  Sector      EXCHANGE\n",
       "77   ALQURAIN KK        KUWAIT        Consumer Staples        Kuwait\n",
       "84        AUB KK        KUWAIT                 Banking        Kuwait\n",
       "116      ARTC UH           UAE             Industrials     Abu Dhabi\n",
       "160  ETISALAT UH           UAE  Communication Services     Abu Dhabi\n",
       "166     DAMAC UH           UAE             Real Estate           DFM\n",
       "173       DUR AB  SAUDI ARABIA  Consumer Discretionary  Saudi Arabia\n",
       "187  ALHOKAIR AB  SAUDI ARABIA  Consumer Discretionary  Saudi Arabia\n",
       "188   PETROCH AB  SAUDI ARABIA               Materials  Saudi Arabia\n",
       "194       AXA AB  SAUDI ARABIA               Insurance  Saudi Arabia\n",
       "211  ALMRAKEZ AB  SAUDI ARABIA             Real Estate  Saudi Arabia\n",
       "269       SRE AB  SAUDI ARABIA             Real Estate  Saudi Arabia\n",
       "273       NCB AB  SAUDI ARABIA                 Banking  Saudi Arabia\n",
       "274     SAMBA AB  SAUDI ARABIA                 Banking  Saudi Arabia\n",
       "275  ALKHODAR AB  SAUDI ARABIA             Industrials  Saudi Arabia\n",
       "276  EMAARMLS UH           UAE             Real Estate           DFM\n",
       "277      DXBE UH           UAE  Consumer Discretionary           DFM"
      ]
     },
     "execution_count": 98,
     "metadata": {},
     "output_type": "execute_result"
    }
   ],
   "source": [
    "df_ticker_info[df_ticker_info['Ticker'].isin(list(diff))]"
   ]
  },
  {
   "cell_type": "code",
   "execution_count": 99,
   "metadata": {},
   "outputs": [
    {
     "data": {
      "text/html": [
       "<div>\n",
       "<style scoped>\n",
       "    .dataframe tbody tr th:only-of-type {\n",
       "        vertical-align: middle;\n",
       "    }\n",
       "\n",
       "    .dataframe tbody tr th {\n",
       "        vertical-align: top;\n",
       "    }\n",
       "\n",
       "    .dataframe thead th {\n",
       "        text-align: right;\n",
       "    }\n",
       "</style>\n",
       "<table border=\"1\" class=\"dataframe\">\n",
       "  <thead>\n",
       "    <tr style=\"text-align: right;\">\n",
       "      <th></th>\n",
       "      <th>Date</th>\n",
       "      <th>Ticker</th>\n",
       "      <th>FO WTD</th>\n",
       "      <th>FO MTD</th>\n",
       "      <th>FO YTD</th>\n",
       "      <th>Foreign Headroom</th>\n",
       "      <th>FO%</th>\n",
       "    </tr>\n",
       "  </thead>\n",
       "  <tbody>\n",
       "  </tbody>\n",
       "</table>\n",
       "</div>"
      ],
      "text/plain": [
       "Empty DataFrame\n",
       "Columns: [Date, Ticker, FO WTD, FO MTD, FO YTD, Foreign Headroom, FO%]\n",
       "Index: []"
      ]
     },
     "execution_count": 99,
     "metadata": {},
     "output_type": "execute_result"
    }
   ],
   "source": [
    "df_efo[df_efo['Ticker'].isin(list(diff))]"
   ]
  },
  {
   "cell_type": "markdown",
   "metadata": {},
   "source": [
    "There are 9 tickers that exists in df_efo and not in df_ticker_info"
   ]
  },
  {
   "cell_type": "code",
   "execution_count": 100,
   "metadata": {},
   "outputs": [
    {
     "data": {
      "text/plain": [
       "(array(['AGILITY UH', 'AVALONPH AB', 'EAT AB', 'MODON UH', 'NMDCENR UH',\n",
       "        'SAL AB', 'SMASCO AB', 'SPINNEYS UH', 'SPM AB'], dtype=object),\n",
       " 9)"
      ]
     },
     "execution_count": 100,
     "metadata": {},
     "output_type": "execute_result"
    }
   ],
   "source": [
    "diff = np.setdiff1d(df_efo_ticker_arr, df_ticker_info_ticker_arr)\n",
    "diff, diff.size"
   ]
  },
  {
   "cell_type": "code",
   "execution_count": 101,
   "metadata": {},
   "outputs": [
    {
     "data": {
      "text/html": [
       "<div>\n",
       "<style scoped>\n",
       "    .dataframe tbody tr th:only-of-type {\n",
       "        vertical-align: middle;\n",
       "    }\n",
       "\n",
       "    .dataframe tbody tr th {\n",
       "        vertical-align: top;\n",
       "    }\n",
       "\n",
       "    .dataframe thead th {\n",
       "        text-align: right;\n",
       "    }\n",
       "</style>\n",
       "<table border=\"1\" class=\"dataframe\">\n",
       "  <thead>\n",
       "    <tr style=\"text-align: right;\">\n",
       "      <th></th>\n",
       "      <th>Date</th>\n",
       "      <th>Ticker</th>\n",
       "      <th>FO WTD</th>\n",
       "      <th>FO MTD</th>\n",
       "      <th>FO YTD</th>\n",
       "      <th>Foreign Headroom</th>\n",
       "      <th>FO%</th>\n",
       "    </tr>\n",
       "  </thead>\n",
       "  <tbody>\n",
       "    <tr>\n",
       "      <th>17075</th>\n",
       "      <td>2024-05-08</td>\n",
       "      <td>AGILITY UH</td>\n",
       "      <td>-19.741668</td>\n",
       "      <td>-43.254086</td>\n",
       "      <td>-43.254086</td>\n",
       "      <td>51.4686</td>\n",
       "      <td>15.4538</td>\n",
       "    </tr>\n",
       "    <tr>\n",
       "      <th>17452</th>\n",
       "      <td>2024-05-09</td>\n",
       "      <td>AGILITY UH</td>\n",
       "      <td>-25.423761</td>\n",
       "      <td>-48.750846</td>\n",
       "      <td>-48.750846</td>\n",
       "      <td>51.4877</td>\n",
       "      <td>15.2995</td>\n",
       "    </tr>\n",
       "    <tr>\n",
       "      <th>17620</th>\n",
       "      <td>2024-05-12</td>\n",
       "      <td>AGILITY UH</td>\n",
       "      <td>-29.018964</td>\n",
       "      <td>-51.812077</td>\n",
       "      <td>-51.812077</td>\n",
       "      <td>51.5275</td>\n",
       "      <td>15.1929</td>\n",
       "    </tr>\n",
       "    <tr>\n",
       "      <th>17993</th>\n",
       "      <td>2024-05-13</td>\n",
       "      <td>AGILITY UH</td>\n",
       "      <td>-1.949558</td>\n",
       "      <td>-53.901054</td>\n",
       "      <td>-53.901054</td>\n",
       "      <td>51.5253</td>\n",
       "      <td>15.1392</td>\n",
       "    </tr>\n",
       "    <tr>\n",
       "      <th>18165</th>\n",
       "      <td>2024-05-16</td>\n",
       "      <td>AGILITY UH</td>\n",
       "      <td>-10.837825</td>\n",
       "      <td>-62.130164</td>\n",
       "      <td>-62.130164</td>\n",
       "      <td>51.6036</td>\n",
       "      <td>14.8932</td>\n",
       "    </tr>\n",
       "    <tr>\n",
       "      <th>...</th>\n",
       "      <td>...</td>\n",
       "      <td>...</td>\n",
       "      <td>...</td>\n",
       "      <td>...</td>\n",
       "      <td>...</td>\n",
       "      <td>...</td>\n",
       "      <td>...</td>\n",
       "    </tr>\n",
       "    <tr>\n",
       "      <th>33706</th>\n",
       "      <td>2024-10-07</td>\n",
       "      <td>AGILITY UH</td>\n",
       "      <td>-1.412987</td>\n",
       "      <td>-2.675910</td>\n",
       "      <td>-252.713952</td>\n",
       "      <td>51.7530</td>\n",
       "      <td>9.1997</td>\n",
       "    </tr>\n",
       "    <tr>\n",
       "      <th>33718</th>\n",
       "      <td>2024-10-07</td>\n",
       "      <td>MODON UH</td>\n",
       "      <td>5.387683</td>\n",
       "      <td>-524.461674</td>\n",
       "      <td>-271.860372</td>\n",
       "      <td>27.3923</td>\n",
       "      <td>2.1862</td>\n",
       "    </tr>\n",
       "    <tr>\n",
       "      <th>33719</th>\n",
       "      <td>2024-10-07</td>\n",
       "      <td>NMDCENR UH</td>\n",
       "      <td>3.013885</td>\n",
       "      <td>65.726532</td>\n",
       "      <td>100.247603</td>\n",
       "      <td>91.4166</td>\n",
       "      <td>7.5929</td>\n",
       "    </tr>\n",
       "    <tr>\n",
       "      <th>33797</th>\n",
       "      <td>2024-10-07</td>\n",
       "      <td>EAT AB</td>\n",
       "      <td>-1.627273</td>\n",
       "      <td>-4.389791</td>\n",
       "      <td>25.224555</td>\n",
       "      <td>40.6700</td>\n",
       "      <td>8.3300</td>\n",
       "    </tr>\n",
       "    <tr>\n",
       "      <th>33815</th>\n",
       "      <td>2024-10-07</td>\n",
       "      <td>SPM AB</td>\n",
       "      <td>-0.819308</td>\n",
       "      <td>-1.468281</td>\n",
       "      <td>-1.821806</td>\n",
       "      <td>45.3200</td>\n",
       "      <td>3.6800</td>\n",
       "    </tr>\n",
       "  </tbody>\n",
       "</table>\n",
       "<p>392 rows × 7 columns</p>\n",
       "</div>"
      ],
      "text/plain": [
       "            Date      Ticker     FO WTD      FO MTD      FO YTD  \\\n",
       "17075 2024-05-08  AGILITY UH -19.741668  -43.254086  -43.254086   \n",
       "17452 2024-05-09  AGILITY UH -25.423761  -48.750846  -48.750846   \n",
       "17620 2024-05-12  AGILITY UH -29.018964  -51.812077  -51.812077   \n",
       "17993 2024-05-13  AGILITY UH  -1.949558  -53.901054  -53.901054   \n",
       "18165 2024-05-16  AGILITY UH -10.837825  -62.130164  -62.130164   \n",
       "...          ...         ...        ...         ...         ...   \n",
       "33706 2024-10-07  AGILITY UH  -1.412987   -2.675910 -252.713952   \n",
       "33718 2024-10-07    MODON UH   5.387683 -524.461674 -271.860372   \n",
       "33719 2024-10-07  NMDCENR UH   3.013885   65.726532  100.247603   \n",
       "33797 2024-10-07      EAT AB  -1.627273   -4.389791   25.224555   \n",
       "33815 2024-10-07      SPM AB  -0.819308   -1.468281   -1.821806   \n",
       "\n",
       "       Foreign Headroom      FO%  \n",
       "17075           51.4686  15.4538  \n",
       "17452           51.4877  15.2995  \n",
       "17620           51.5275  15.1929  \n",
       "17993           51.5253  15.1392  \n",
       "18165           51.6036  14.8932  \n",
       "...                 ...      ...  \n",
       "33706           51.7530   9.1997  \n",
       "33718           27.3923   2.1862  \n",
       "33719           91.4166   7.5929  \n",
       "33797           40.6700   8.3300  \n",
       "33815           45.3200   3.6800  \n",
       "\n",
       "[392 rows x 7 columns]"
      ]
     },
     "execution_count": 101,
     "metadata": {},
     "output_type": "execute_result"
    }
   ],
   "source": [
    "df_efo[df_efo['Ticker'].isin(list(diff))]"
   ]
  },
  {
   "cell_type": "markdown",
   "metadata": {},
   "source": [
    "Those 9 unique tickers results in 392 records, which make up about 1.1%"
   ]
  },
  {
   "cell_type": "code",
   "execution_count": 102,
   "metadata": {},
   "outputs": [
    {
     "data": {
      "text/html": [
       "<div>\n",
       "<style scoped>\n",
       "    .dataframe tbody tr th:only-of-type {\n",
       "        vertical-align: middle;\n",
       "    }\n",
       "\n",
       "    .dataframe tbody tr th {\n",
       "        vertical-align: top;\n",
       "    }\n",
       "\n",
       "    .dataframe thead th {\n",
       "        text-align: right;\n",
       "    }\n",
       "</style>\n",
       "<table border=\"1\" class=\"dataframe\">\n",
       "  <thead>\n",
       "    <tr style=\"text-align: right;\">\n",
       "      <th></th>\n",
       "      <th>Ticker</th>\n",
       "      <th>Country</th>\n",
       "      <th>Sector</th>\n",
       "      <th>EXCHANGE</th>\n",
       "    </tr>\n",
       "  </thead>\n",
       "  <tbody>\n",
       "  </tbody>\n",
       "</table>\n",
       "</div>"
      ],
      "text/plain": [
       "Empty DataFrame\n",
       "Columns: [Ticker, Country, Sector, EXCHANGE]\n",
       "Index: []"
      ]
     },
     "execution_count": 102,
     "metadata": {},
     "output_type": "execute_result"
    }
   ],
   "source": [
    "df_ticker_info[df_ticker_info['Ticker'].isin(list(diff))]"
   ]
  },
  {
   "cell_type": "markdown",
   "metadata": {},
   "source": [
    "## Merge the two sheets on the \"Ticker\" column to create a single Data Frame"
   ]
  },
  {
   "cell_type": "code",
   "execution_count": null,
   "metadata": {},
   "outputs": [],
   "source": []
  },
  {
   "cell_type": "code",
   "execution_count": null,
   "metadata": {},
   "outputs": [],
   "source": []
  },
  {
   "cell_type": "code",
   "execution_count": null,
   "metadata": {},
   "outputs": [],
   "source": []
  }
 ],
 "metadata": {
  "kernelspec": {
   "display_name": "Python 3",
   "language": "python",
   "name": "python3"
  },
  "language_info": {
   "codemirror_mode": {
    "name": "ipython",
    "version": 3
   },
   "file_extension": ".py",
   "mimetype": "text/x-python",
   "name": "python",
   "nbconvert_exporter": "python",
   "pygments_lexer": "ipython3",
   "version": "3.10.12"
  }
 },
 "nbformat": 4,
 "nbformat_minor": 2
}
